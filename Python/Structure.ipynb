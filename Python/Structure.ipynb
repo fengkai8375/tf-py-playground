{
 "cells": [
  {
   "cell_type": "markdown",
   "metadata": {},
   "source": [
    "# List"
   ]
  },
  {
   "cell_type": "code",
   "execution_count": 29,
   "metadata": {},
   "outputs": [
    {
     "name": "stdout",
     "output_type": "stream",
     "text": [
      "[0, 1, 2, 3, 4, 5, 6, 7, 8, 9]\n",
      "[0, 1, 2, 3, 4, 5, 6, 7, 8, 9, 10]\n",
      "[0, 1, 2, 3, 5, 6, 7, 8, 9, 10]\n",
      "10\n",
      "[9, 8, 7, 6, 5, 3, 2, 1, 0]\n",
      "[7, 6, 5, 3, 2, 1, 0]\n",
      "[]\n"
     ]
    }
   ],
   "source": [
    "lista  = range(0,10)\n",
    "print(lista)\n",
    "\n",
    "lista.append(10)\n",
    "print(lista)\n",
    "\n",
    "lista.index(4)\n",
    "lista.remove(4)\n",
    "print(lista)\n",
    "\n",
    "# list.pop() 弹出最后一个元素\n",
    "last = lista.pop()\n",
    "print(last)\n",
    "\n",
    "# list.reverse() 是按引用传递，不产生新list\n",
    "lista.reverse()\n",
    "print(lista)\n",
    "\n",
    "#  del操作，索引是从第一个参数开始，到最二个参数的前一个\n",
    "del lista[0:2]\n",
    "print(lista)\n",
    "\n",
    "# del操作，清空整个list\n",
    "del lista[:]\n",
    "print(lista)\n",
    "\n",
    "# del操作，删除list变量\n",
    "del lista\n",
    "# 此时lista已不存在"
   ]
  },
  {
   "cell_type": "markdown",
   "metadata": {},
   "source": [
    "# Queue"
   ]
  },
  {
   "cell_type": "code",
   "execution_count": 21,
   "metadata": {},
   "outputs": [
    {
     "name": "stdout",
     "output_type": "stream",
     "text": [
      "deque([0, 1, 2, 3, 4, 5, 6, 7, 8, 9])\n",
      "deque([0, 1, 2, 3, 4, 5, 6, 7, 8, 9, 10, 11])\n",
      "11\n",
      "0\n"
     ]
    }
   ],
   "source": [
    "from collections import deque\n",
    "\n",
    "queue = deque(range(0,10))\n",
    "print(queue)\n",
    "\n",
    "queue.append(10)\n",
    "queue.append(11)\n",
    "print(queue)\n",
    "\n",
    "right_a = queue.pop()\n",
    "print(right_a)\n",
    "\n",
    "#deque 比list个 popleft()操作\n",
    "left_a = queue.popleft()\n",
    "print(left_a)"
   ]
  },
  {
   "cell_type": "markdown",
   "metadata": {},
   "source": [
    "# Set"
   ]
  },
  {
   "cell_type": "code",
   "execution_count": 35,
   "metadata": {},
   "outputs": [
    {
     "name": "stdout",
     "output_type": "stream",
     "text": [
      "set(['a', 'c', 'b', 'e', 'd'])\n",
      "set(['a', 'c', 'b', 'e', 'd', 'g', 'f', 'i', 'h', 'k', 'j', 'l'])\n",
      "set(['g', 'f'])\n",
      "set(['a', 'c', 'b', 'e', 'd', 'i', 'h', 'k', 'j', 'l'])\n"
     ]
    }
   ],
   "source": [
    "a = set('abcdefg')\n",
    "b = set('fghijkl')\n",
    "\n",
    "# a有b没有的\n",
    "c = a - b\n",
    "print(c)\n",
    "\n",
    "# a和b的并集且去重\n",
    "d = a | b\n",
    "print(d)\n",
    "\n",
    "# a和b的交集\n",
    "e = a & b\n",
    "print(e)\n",
    "\n",
    "# a有b没有的和b有a没有的\n",
    "f = a ^ b\n",
    "print(f)"
   ]
  },
  {
   "cell_type": "markdown",
   "metadata": {},
   "source": [
    "# Dictionary"
   ]
  },
  {
   "cell_type": "code",
   "execution_count": 44,
   "metadata": {},
   "outputs": [
    {
     "name": "stdout",
     "output_type": "stream",
     "text": [
      "['eth', 'doge', 'btc']\n",
      "Dogecoin\n",
      "{'eos': 'EOS', 'eth': 'ethereum', 'doge': 'Dogecoin', 'btc': 'bitcoin'}\n",
      "{'eos': 'EOS', 'eth': 'ethereum', 'btc': 'bitcoin'}\n",
      "3\n",
      "eos\n",
      "eth\n",
      "btc\n"
     ]
    }
   ],
   "source": [
    "dc = {'doge' : 'Dogecoin', 'btc' : 'bitcoin', 'eth' : 'ethereum'}\n",
    "\n",
    "# keys\n",
    "print(dc.keys())\n",
    "\n",
    "# key's value\n",
    "print(dc['doge'])\n",
    "\n",
    "# modify key value\n",
    "dc['eos'] = 'EOS'\n",
    "print(dc)\n",
    "\n",
    "# remove key\n",
    "del dc['doge']\n",
    "print(dc)\n",
    "\n",
    "# len\n",
    "print(len(dc))\n",
    "\n",
    "# for loop的是key\n",
    "for i in dc:\n",
    "    print(i)"
   ]
  }
 ],
 "metadata": {
  "kernelspec": {
   "display_name": "Python 2",
   "language": "python",
   "name": "python2"
  },
  "language_info": {
   "codemirror_mode": {
    "name": "ipython",
    "version": 2
   },
   "file_extension": ".py",
   "mimetype": "text/x-python",
   "name": "python",
   "nbconvert_exporter": "python",
   "pygments_lexer": "ipython2",
   "version": "2.7.12"
  }
 },
 "nbformat": 4,
 "nbformat_minor": 2
}
