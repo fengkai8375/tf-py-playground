{
 "cells": [
  {
   "cell_type": "markdown",
   "metadata": {},
   "source": [
    "# File Operation\n",
    "\n",
    "1. `r`  read only\n",
    "2. `w` write only\n",
    "3. `a` append only\n",
    "4. `r+` read+write, **won't** create file if not exists\n",
    "5. `w+` write file, **will** create file if not exists\n",
    "6. `a+` append to file, **will** create file if not exists"
   ]
  },
  {
   "cell_type": "markdown",
   "metadata": {},
   "source": [
    "## Read File"
   ]
  },
  {
   "cell_type": "code",
   "execution_count": 32,
   "metadata": {},
   "outputs": [
    {
     "name": "stdout",
     "output_type": "stream",
     "text": [
      "{\n",
      "\n",
      "hello2,world2!\n",
      "hello,world!\n",
      "\n"
     ]
    }
   ],
   "source": [
    "file = open('Basic.ipynb', 'r')\n",
    "\n",
    "print(file.readline())\n",
    "\n",
    "file.close()\n",
    "\n",
    "with open('test.txt', 'r') as f:\n",
    "    data = f.read()\n",
    "    print(data)\n",
    "f.close()"
   ]
  },
  {
   "cell_type": "markdown",
   "metadata": {},
   "source": [
    "## Write File"
   ]
  },
  {
   "cell_type": "code",
   "execution_count": 31,
   "metadata": {
    "scrolled": true
   },
   "outputs": [],
   "source": [
    "file = open('test.txt', 'w')\n",
    "\n",
    "file.write('hello2,world2!\\n')\n",
    "\n",
    "file.write('hello,world!\\n')\n",
    "\n",
    "file.close()"
   ]
  },
  {
   "cell_type": "markdown",
   "metadata": {},
   "source": [
    "## Append File"
   ]
  },
  {
   "cell_type": "code",
   "execution_count": 29,
   "metadata": {},
   "outputs": [],
   "source": [
    "file = open('test.txt', 'a')\n",
    "\n",
    "file.write('hello3,world3!\\n')\n",
    "\n",
    "file.close()"
   ]
  },
  {
   "cell_type": "code",
   "execution_count": null,
   "metadata": {},
   "outputs": [],
   "source": []
  }
 ],
 "metadata": {
  "kernelspec": {
   "display_name": "Python 2",
   "language": "python",
   "name": "python2"
  },
  "language_info": {
   "codemirror_mode": {
    "name": "ipython",
    "version": 2
   },
   "file_extension": ".py",
   "mimetype": "text/x-python",
   "name": "python",
   "nbconvert_exporter": "python",
   "pygments_lexer": "ipython2",
   "version": "2.7.12"
  }
 },
 "nbformat": 4,
 "nbformat_minor": 2
}
