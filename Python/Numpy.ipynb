{
 "cells": [
  {
   "cell_type": "code",
   "execution_count": 18,
   "metadata": {},
   "outputs": [
    {
     "name": "stdout",
     "output_type": "stream",
     "text": [
      "5\n",
      "(5,)\n",
      "8\n",
      "(4, 2)\n",
      "15\n",
      "(3, 5)\n",
      "[[ 1  2  3  4  5]\n",
      " [ 6  7  8  9 10]\n",
      " [11 12 13 14 15]]\n",
      "[[0. 0. 0. 0.]\n",
      " [0. 0. 0. 0.]\n",
      " [0. 0. 0. 0.]]\n",
      "[[1. 1. 1. 1. 1.]\n",
      " [1. 1. 1. 1. 1.]\n",
      " [1. 1. 1. 1. 1.]]\n",
      "[[6.94529736e-310 6.94529736e-310 6.94525968e-310]\n",
      " [6.94525964e-310 6.94525970e-310 6.94525964e-310]]\n",
      "[ 0  1  2  3  4  5  6  7  8  9 10 11 12 13 14]\n"
     ]
    }
   ],
   "source": [
    "import numpy as np\n",
    "\n",
    "a = np.array([1, 2, 3, 4, 5])\n",
    "\n",
    "print(a.size)\n",
    "\n",
    "print(a.shape)\n",
    "\n",
    "b = np.array([[1,2], [2,4], [3,6], [4,8]])\n",
    "\n",
    "print(b.size)\n",
    "\n",
    "print(b.shape)\n",
    "\n",
    "c = np.array(range(1,16,1)).reshape(3, 5)\n",
    "# equal c = np.array(range(15)).reshape(3, 5)\n",
    "\n",
    "print(c.size)\n",
    "print(c.shape)\n",
    "print(c)\n",
    "\n",
    "\n",
    "d= np.zeros((3,4))\n",
    "\n",
    "print(d)\n",
    "\n",
    "e = np.ones((3,5))\n",
    "\n",
    "print(e)\n",
    "\n",
    "f = np.empty((2,3))\n",
    "print(f)\n",
    "\n",
    "\n",
    "h = np.arange(15)\n",
    "print(h)"
   ]
  },
  {
   "cell_type": "code",
   "execution_count": null,
   "metadata": {},
   "outputs": [],
   "source": []
  }
 ],
 "metadata": {
  "kernelspec": {
   "display_name": "Python 2",
   "language": "python",
   "name": "python2"
  },
  "language_info": {
   "codemirror_mode": {
    "name": "ipython",
    "version": 2
   },
   "file_extension": ".py",
   "mimetype": "text/x-python",
   "name": "python",
   "nbconvert_exporter": "python",
   "pygments_lexer": "ipython2",
   "version": "2.7.12"
  }
 },
 "nbformat": 4,
 "nbformat_minor": 2
}
