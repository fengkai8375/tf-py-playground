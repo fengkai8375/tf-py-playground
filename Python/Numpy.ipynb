{
 "cells": [
  {
   "cell_type": "markdown",
   "metadata": {},
   "source": [
    "## Basic"
   ]
  },
  {
   "cell_type": "code",
   "execution_count": 9,
   "metadata": {},
   "outputs": [
    {
     "name": "stdout",
     "output_type": "stream",
     "text": [
      "5\n",
      "(5,)\n",
      "8\n",
      "(4, 2)\n",
      "15\n",
      "(3, 5)\n",
      "[[ 1  2  3  4  5]\n",
      " [ 6  7  8  9 10]\n",
      " [11 12 13 14 15]]\n",
      "[[0. 0. 0. 0.]\n",
      " [0. 0. 0. 0.]\n",
      " [0. 0. 0. 0.]]\n",
      "[[1. 1. 1. 1. 1.]\n",
      " [1. 1. 1. 1. 1.]\n",
      " [1. 1. 1. 1. 1.]]\n",
      "[[4.9e-324 9.9e-324 9.9e-324]\n",
      " [2.0e-323 1.5e-323 3.0e-323]]\n",
      "[ 0  1  2  3  4  5  6  7  8  9 10 11 12 13 14]\n"
     ]
    }
   ],
   "source": [
    "import numpy as np\n",
    "\n",
    "a = np.array([1, 2, 3, 4, 5])\n",
    "print(a.size)\n",
    "print(a.shape)\n",
    "\n",
    "b = np.array([[1,2], [2,4], [3,6], [4,8]])\n",
    "print(b.size)\n",
    "print(b.shape)\n",
    "\n",
    "c = np.array(range(1,16,1)).reshape(3, 5)\n",
    "# equal c = np.array(range(15)).reshape(3, 5)\n",
    "print(c.size)\n",
    "print(c.shape)\n",
    "print(c)\n",
    "\n",
    "\n",
    "d= np.zeros((3,4))\n",
    "print(d)\n",
    "\n",
    "e = np.ones((3,5))\n",
    "print(e)\n",
    "\n",
    "f = np.empty((2,3))\n",
    "print(f)\n",
    "\n",
    "h = np.arange(15)\n",
    "print(h)"
   ]
  },
  {
   "cell_type": "markdown",
   "metadata": {},
   "source": [
    "## Prepare Simple Data"
   ]
  },
  {
   "cell_type": "code",
   "execution_count": 8,
   "metadata": {},
   "outputs": [
    {
     "name": "stdout",
     "output_type": "stream",
     "text": [
      "[[1, 2], [2, 4], [3, 6]]\n",
      "[[1 2]\n",
      " [2 4]\n",
      " [3 6]]\n"
     ]
    }
   ],
   "source": [
    "list = []\n",
    "\n",
    "list.append([1,2])\n",
    "\n",
    "list.append([2,4])\n",
    "\n",
    "list.append([3,6])\n",
    "\n",
    "print(list)\n",
    "\n",
    "arr = np.array(list)\n",
    "\n",
    "print(arr)"
   ]
  },
  {
   "cell_type": "code",
   "execution_count": null,
   "metadata": {},
   "outputs": [],
   "source": []
  }
 ],
 "metadata": {
  "kernelspec": {
   "display_name": "Python 2",
   "language": "python",
   "name": "python2"
  },
  "language_info": {
   "codemirror_mode": {
    "name": "ipython",
    "version": 2
   },
   "file_extension": ".py",
   "mimetype": "text/x-python",
   "name": "python",
   "nbconvert_exporter": "python",
   "pygments_lexer": "ipython2",
   "version": "2.7.12"
  }
 },
 "nbformat": 4,
 "nbformat_minor": 2
}
