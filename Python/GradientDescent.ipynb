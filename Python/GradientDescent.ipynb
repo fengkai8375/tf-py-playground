{
 "cells": [
  {
   "cell_type": "markdown",
   "metadata": {},
   "source": [
    "Incremental Gradient Descent\n",
    "\n",
    "This algorithm loop every sample and update params every step."
   ]
  },
  {
   "cell_type": "code",
   "execution_count": 51,
   "metadata": {},
   "outputs": [
    {
     "name": "stdout",
     "output_type": "stream",
     "text": [
      "1.875\n",
      "[84.13, 81]\n",
      "[70.91213399999998, 71]\n",
      "[104.2702319432, 102.5]\n",
      "[42.599945382638765, 43.5]\n",
      "[66.83532061590392, 66.8]\n",
      "[84.43459558299311, 81]\n",
      "[0.08337574005691938, 0.8323999337193027, 0.1670149571687609]\n",
      "[71.17140002053517, 71]\n",
      "[0.08483264023146836, 0.8324342137234096, 0.16823189731456065]\n",
      "[104.64380504760136, 102.5]\n",
      "[0.11163020332648538, 0.83307735523769, 0.1902058990524746]\n",
      "[42.788781219501146, 43.5]\n",
      "[0.10800298754594122, 0.8330062333596401, 0.18711209735730458]\n",
      "[67.12272585103176, 66.8]\n",
      "[0.11058479435419531, 0.8330707785298465, 0.18926790604219676]\n"
     ]
    }
   ],
   "source": [
    "import numpy\n",
    "\n",
    "# 最小均方差\n",
    "def least_mean_square(y, h):\n",
    "    y_len = len(y)\n",
    "    h_len = len(h)\n",
    "    if y_len != h_len :\n",
    "        return false\n",
    "    lms_total = 0\n",
    "    for i in range(len(y)):\n",
    "        y_i = y[i]\n",
    "        h_i = h[i]\n",
    "        # lms_i = numpy.square(y_i - h_i)\n",
    "        lms_i = pow(y_i - h_i, 2)\n",
    "        lms_total += lms_i\n",
    "        \n",
    "    return lms_total / 2\n",
    "\n",
    "# test\n",
    "h = [81,71,102.5,43.5]\n",
    "y = [80.5,70,101,43]\n",
    "lms_rs  = least_mean_square(h, y)\n",
    "print(lms_rs)\n",
    "\n",
    "# 向量点积\n",
    "def vector_dot_product(y , h):\n",
    "    y_len = len(y)\n",
    "    h_len = len(h)\n",
    "    if y_len != h_len :\n",
    "        return false\n",
    "    lms_total = 0\n",
    "    for i in range(len(y)):\n",
    "        y_i = y[i]\n",
    "        h_i = h[i]\n",
    "        lms_i = y_i * h_i\n",
    "        lms_total += lms_i\n",
    "        \n",
    "    return lms_total\n",
    "    \n",
    "sample1 = [101, 3, 81]\n",
    "sample2 = [85, 2, 71]\n",
    "sample3 = [125, 3, 102.5]\n",
    "sample4 = [51, 1, 43.5]\n",
    "sample5 = [80, 2, 66.8]\n",
    "    \n",
    "samples = [sample1, sample2, sample3,sample4,sample5]\n",
    "    \n",
    "#print(samples)\n",
    "    \n",
    "p0 = 0\n",
    "p1 = 0.83\n",
    "p2 = 0.1\n",
    "    \n",
    "alpha = 0.0001\n",
    "    \n",
    "for i in range(len(samples)):\n",
    "    sample = samples[i]\n",
    "    h_x = vector_dot_product([1, sample[0], sample[1]], [p0, p1, p2])\n",
    "    print([h_x, sample[2]])\n",
    "    p0 = p0 - (alpha * (sample[2] - h_x) * sample[0])\n",
    "    p1 = p1 - (alpha * (sample[2] - h_x) * sample[1])\n",
    "    p2 = p2 - (alpha * (sample[2] - h_x) * sample[2])\n",
    "        \n",
    "    \n",
    "for i in range(len(samples)):\n",
    "    sample = samples[i]\n",
    "    h_x = vector_dot_product([1, sample[0], sample[1]], [p0, p1, p2])\n",
    "    print([h_x, sample[2]])\n",
    "    p0 = p0 - (alpha * (sample[2] - h_x) * sample[0])\n",
    "    p1 = p1 - (alpha * (sample[2] - h_x) * sample[1])\n",
    "    p2 = p2 - (alpha * (sample[2] - h_x) * sample[2])\n",
    "    print([p0, p1, p2]) "
   ]
  }
 ],
 "metadata": {
  "kernelspec": {
   "display_name": "Python 2",
   "language": "python",
   "name": "python2"
  },
  "language_info": {
   "codemirror_mode": {
    "name": "ipython",
    "version": 2
   },
   "file_extension": ".py",
   "mimetype": "text/x-python",
   "name": "python",
   "nbconvert_exporter": "python",
   "pygments_lexer": "ipython2",
   "version": "2.7.12"
  }
 },
 "nbformat": 4,
 "nbformat_minor": 2
}
