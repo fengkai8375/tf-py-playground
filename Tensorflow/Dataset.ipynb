{
 "cells": [
  {
   "cell_type": "markdown",
   "metadata": {},
   "source": [
    "## Dataset from text file"
   ]
  },
  {
   "cell_type": "code",
   "execution_count": 24,
   "metadata": {},
   "outputs": [
    {
     "name": "stdout",
     "output_type": "stream",
     "text": [
      "<TextLineDatasetV1 shapes: (), types: tf.string>\n",
      "101 3 81.7\n",
      "85 2 68.6\n",
      "125 3 100.9\n",
      "51 1 41.1\n",
      "80 2 646.6\n"
     ]
    }
   ],
   "source": [
    "import tensorflow as tf\n",
    "filenames = [\"house_price.txt\"]\n",
    "dataset = tf.data.TextLineDataset(filenames)\n",
    "print(dataset)\n",
    "\n",
    "\n",
    "sess = tf.Session()\n",
    "iterator = dataset.make_initializable_iterator()\n",
    "sess.run(iterator.initializer)\n",
    "\n",
    "next_element = iterator.get_next()\n",
    "\n",
    "for i in range(5):\n",
    "    value = sess.run(next_element)\n",
    "    print(value)\n"
   ]
  },
  {
   "cell_type": "code",
   "execution_count": null,
   "metadata": {},
   "outputs": [],
   "source": []
  },
  {
   "cell_type": "code",
   "execution_count": null,
   "metadata": {},
   "outputs": [],
   "source": []
  }
 ],
 "metadata": {
  "kernelspec": {
   "display_name": "Python 2",
   "language": "python",
   "name": "python2"
  },
  "language_info": {
   "codemirror_mode": {
    "name": "ipython",
    "version": 2
   },
   "file_extension": ".py",
   "mimetype": "text/x-python",
   "name": "python",
   "nbconvert_exporter": "python",
   "pygments_lexer": "ipython2",
   "version": "2.7.12"
  }
 },
 "nbformat": 4,
 "nbformat_minor": 2
}
