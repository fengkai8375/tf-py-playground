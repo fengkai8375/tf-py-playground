{
 "cells": [
  {
   "cell_type": "code",
   "execution_count": 1,
   "metadata": {},
   "outputs": [
    {
     "name": "stdout",
     "output_type": "stream",
     "text": [
      "('Tensorflow version is ', '1.13.0-rc1')\n",
      "('result1:', array([[3, 4],\n",
      "       [3, 4]], dtype=int32))\n",
      "('result2:', array([[2, 4],\n",
      "       [3, 2]], dtype=int32))\n"
     ]
    }
   ],
   "source": [
    "import tensorflow as tf\n",
    "\n",
    "print(\"Tensorflow version is \", tf.__version__)\n",
    "\n",
    "with tf.Session():\n",
    "    input1 = tf.constant([[1,1],[1,1]])\n",
    "    input2 = tf.constant([[1,3],[2,1]])\n",
    "    output1 = tf.matmul(input1, input2)\n",
    "    output2 = tf.add(input1, input2)\n",
    "    result1 = output1.eval()\n",
    "    result2 = output2.eval()\n",
    "    print(\"result1:\", result1)\n",
    "    print(\"result2:\", result2)"
   ]
  },
  {
   "cell_type": "code",
   "execution_count": null,
   "metadata": {},
   "outputs": [],
   "source": []
  }
 ],
 "metadata": {
  "kernelspec": {
   "display_name": "Python 2",
   "language": "python",
   "name": "python2"
  },
  "language_info": {
   "codemirror_mode": {
    "name": "ipython",
    "version": 2
   },
   "file_extension": ".py",
   "mimetype": "text/x-python",
   "name": "python",
   "nbconvert_exporter": "python",
   "pygments_lexer": "ipython2",
   "version": "2.7.12"
  }
 },
 "nbformat": 4,
 "nbformat_minor": 2
}
